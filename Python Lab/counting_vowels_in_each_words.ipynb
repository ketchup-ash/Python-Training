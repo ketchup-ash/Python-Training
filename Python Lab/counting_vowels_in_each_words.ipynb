{
 "cells": [
  {
   "cell_type": "code",
   "execution_count": 1,
   "metadata": {},
   "outputs": [
    {
     "name": "stdin",
     "output_type": "stream",
     "text": [
      "Enter the sentence: This is a sentence and this is a second sentence with a 70k package\n"
     ]
    },
    {
     "name": "stdout",
     "output_type": "stream",
     "text": [
      "Total no. of vowels: 20\n",
      "Word with most vowels: sentence\n"
     ]
    }
   ],
   "source": [
    "x = input('Enter the sentence:')\n",
    "vowel = 'aeiou'\n",
    "count = 0\n",
    "largest = 0\n",
    "\n",
    "a = x.split(' ')\n",
    "for i in a:\n",
    "    count1 = 0\n",
    "    for j in vowel:\n",
    "        count += i.count(j)\n",
    "        count1 += i.count(j)\n",
    "    if largest < count1:\n",
    "        largest = count1\n",
    "        z = i\n",
    "print(f\"Total no. of vowels: {count}\")\n",
    "print(f\"Word with most vowels: {z}\")"
   ]
  },
  {
   "cell_type": "code",
   "execution_count": null,
   "metadata": {},
   "outputs": [],
   "source": []
  }
 ],
 "metadata": {
  "kernelspec": {
   "display_name": "Python 3",
   "language": "python",
   "name": "python3"
  },
  "language_info": {
   "codemirror_mode": {
    "name": "ipython",
    "version": 3
   },
   "file_extension": ".py",
   "mimetype": "text/x-python",
   "name": "python",
   "nbconvert_exporter": "python",
   "pygments_lexer": "ipython3",
   "version": "3.7.0"
  }
 },
 "nbformat": 4,
 "nbformat_minor": 2
}
