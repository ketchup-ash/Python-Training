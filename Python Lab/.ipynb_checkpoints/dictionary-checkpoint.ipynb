{
 "cells": [
  {
   "cell_type": "code",
   "execution_count": 4,
   "metadata": {},
   "outputs": [],
   "source": [
    "data = {'a':'Alphabet', 'b':'Ballet', 'c':'Chocopie'}"
   ]
  },
  {
   "cell_type": "code",
   "execution_count": 5,
   "metadata": {},
   "outputs": [
    {
     "data": {
      "text/plain": [
       "dict"
      ]
     },
     "execution_count": 5,
     "metadata": {},
     "output_type": "execute_result"
    }
   ],
   "source": [
    "type(data)"
   ]
  },
  {
   "cell_type": "code",
   "execution_count": 6,
   "metadata": {},
   "outputs": [],
   "source": [
    "data = {\n",
    "    'Kushagra':10,\n",
    "    'Amir':9,\n",
    "    'Imran':78,\n",
    "    'Ayush':91,\n",
    "    'Falguni':81\n",
    "}"
   ]
  },
  {
   "cell_type": "code",
   "execution_count": 7,
   "metadata": {},
   "outputs": [
    {
     "data": {
      "text/plain": [
       "{'Kushagra': 10, 'Amir': 9, 'Imran': 78, 'Ayush': 91, 'Falguni': 81}"
      ]
     },
     "execution_count": 7,
     "metadata": {},
     "output_type": "execute_result"
    }
   ],
   "source": [
    "data"
   ]
  },
  {
   "cell_type": "code",
   "execution_count": 12,
   "metadata": {},
   "outputs": [
    {
     "data": {
      "text/plain": [
       "9"
      ]
     },
     "execution_count": 12,
     "metadata": {},
     "output_type": "execute_result"
    }
   ],
   "source": [
    "data['Amir'] #case sensitive"
   ]
  },
  {
   "cell_type": "code",
   "execution_count": 13,
   "metadata": {},
   "outputs": [
    {
     "data": {
      "text/plain": [
       "91"
      ]
     },
     "execution_count": 13,
     "metadata": {},
     "output_type": "execute_result"
    }
   ],
   "source": [
    "data.get('Ayush')"
   ]
  },
  {
   "cell_type": "code",
   "execution_count": 14,
   "metadata": {},
   "outputs": [],
   "source": [
    "data.get('Ahmad')"
   ]
  },
  {
   "cell_type": "code",
   "execution_count": 15,
   "metadata": {},
   "outputs": [],
   "source": [
    "data.get(123)"
   ]
  },
  {
   "cell_type": "code",
   "execution_count": 18,
   "metadata": {},
   "outputs": [
    {
     "data": {
      "text/plain": [
       "'Not found'"
      ]
     },
     "execution_count": 18,
     "metadata": {},
     "output_type": "execute_result"
    }
   ],
   "source": [
    "data.get('Ahamd', 'Not found')"
   ]
  },
  {
   "cell_type": "code",
   "execution_count": 19,
   "metadata": {},
   "outputs": [
    {
     "data": {
      "text/plain": [
       "9"
      ]
     },
     "execution_count": 19,
     "metadata": {},
     "output_type": "execute_result"
    }
   ],
   "source": [
    "data.get('Amir', 'Not found')"
   ]
  },
  {
   "cell_type": "code",
   "execution_count": 20,
   "metadata": {},
   "outputs": [],
   "source": [
    "data['Ahamd'] = 78"
   ]
  },
  {
   "cell_type": "code",
   "execution_count": 21,
   "metadata": {},
   "outputs": [
    {
     "data": {
      "text/plain": [
       "{'Kushagra': 10,\n",
       " 'Amir': 9,\n",
       " 'Imran': 78,\n",
       " 'Ayush': 91,\n",
       " 'Falguni': 81,\n",
       " 'Ahamd': 78}"
      ]
     },
     "execution_count": 21,
     "metadata": {},
     "output_type": "execute_result"
    }
   ],
   "source": [
    "data"
   ]
  },
  {
   "cell_type": "code",
   "execution_count": 22,
   "metadata": {},
   "outputs": [],
   "source": [
    "data['Amir'] = 68"
   ]
  },
  {
   "cell_type": "code",
   "execution_count": 23,
   "metadata": {},
   "outputs": [],
   "source": [
    "data['Kushagra'] = 76"
   ]
  },
  {
   "cell_type": "code",
   "execution_count": 24,
   "metadata": {},
   "outputs": [
    {
     "data": {
      "text/plain": [
       "76"
      ]
     },
     "execution_count": 24,
     "metadata": {},
     "output_type": "execute_result"
    }
   ],
   "source": [
    "data.pop('Kushagra')"
   ]
  },
  {
   "cell_type": "code",
   "execution_count": 25,
   "metadata": {},
   "outputs": [
    {
     "data": {
      "text/plain": [
       "{'Amir': 68, 'Imran': 78, 'Ayush': 91, 'Falguni': 81, 'Ahamd': 78}"
      ]
     },
     "execution_count": 25,
     "metadata": {},
     "output_type": "execute_result"
    }
   ],
   "source": [
    "data"
   ]
  },
  {
   "cell_type": "code",
   "execution_count": 26,
   "metadata": {},
   "outputs": [
    {
     "data": {
      "text/plain": [
       "('Ahamd', 78)"
      ]
     },
     "execution_count": 26,
     "metadata": {},
     "output_type": "execute_result"
    }
   ],
   "source": [
    "data.popitem()"
   ]
  },
  {
   "cell_type": "code",
   "execution_count": 31,
   "metadata": {},
   "outputs": [],
   "source": [
    "products = {\n",
    "    'Soap': 36,\n",
    "    'Brush': 32,\n",
    "    'Toothpaste': 120,\n",
    "    'Laptop': 50000\n",
    "}"
   ]
  },
  {
   "cell_type": "code",
   "execution_count": 33,
   "metadata": {},
   "outputs": [
    {
     "data": {
      "text/plain": [
       "dict_keys(['Amir', 'Imran', 'Ayush', 'Falguni'])"
      ]
     },
     "execution_count": 33,
     "metadata": {},
     "output_type": "execute_result"
    }
   ],
   "source": [
    "data.keys()"
   ]
  },
  {
   "cell_type": "code",
   "execution_count": 34,
   "metadata": {},
   "outputs": [
    {
     "data": {
      "text/plain": [
       "dict_values([68, 78, 91, 81])"
      ]
     },
     "execution_count": 34,
     "metadata": {},
     "output_type": "execute_result"
    }
   ],
   "source": [
    "data.values()"
   ]
  },
  {
   "cell_type": "code",
   "execution_count": 35,
   "metadata": {},
   "outputs": [
    {
     "data": {
      "text/plain": [
       "dict_items([('Amir', 68), ('Imran', 78), ('Ayush', 91), ('Falguni', 81)])"
      ]
     },
     "execution_count": 35,
     "metadata": {},
     "output_type": "execute_result"
    }
   ],
   "source": [
    "data.items()"
   ]
  },
  {
   "cell_type": "code",
   "execution_count": 40,
   "metadata": {},
   "outputs": [
    {
     "name": "stdout",
     "output_type": "stream",
     "text": [
      "('Amir', 68)\n",
      "('Imran', 78)\n",
      "('Ayush', 91)\n",
      "('Falguni', 81)\n"
     ]
    }
   ],
   "source": [
    "for i in data.items():\n",
    "    print(i)"
   ]
  },
  {
   "cell_type": "code",
   "execution_count": 44,
   "metadata": {},
   "outputs": [
    {
     "name": "stdin",
     "output_type": "stream",
     "text": [
      "Enter the value 200000\n",
      "Enter the Key Car\n"
     ]
    }
   ],
   "source": [
    "products[input('Enter the Key')] = int(input('Enter the value'))"
   ]
  },
  {
   "cell_type": "code",
   "execution_count": 45,
   "metadata": {},
   "outputs": [
    {
     "data": {
      "text/plain": [
       "{'Soap': 36,\n",
       " 'Brush': 32,\n",
       " 'Toothpaste': 120,\n",
       " 'Laptop': 50000,\n",
       " 'Mobile': 10000,\n",
       " 'Car': 200000}"
      ]
     },
     "execution_count": 45,
     "metadata": {},
     "output_type": "execute_result"
    }
   ],
   "source": [
    "products"
   ]
  },
  {
   "cell_type": "code",
   "execution_count": 47,
   "metadata": {},
   "outputs": [
    {
     "name": "stdout",
     "output_type": "stream",
     "text": [
      "Amir got 68 marks.\n",
      "Imran got 78 marks.\n",
      "Ayush got 91 marks.\n",
      "Falguni got 81 marks.\n"
     ]
    }
   ],
   "source": [
    "for x, y in data.items():\n",
    "    print(f\"{x} got {y} marks.\")"
   ]
  },
  {
   "cell_type": "code",
   "execution_count": 72,
   "metadata": {},
   "outputs": [],
   "source": [
    "sentence = \"\"\"\n",
    "This is a small message for everyone present in this class. I m\n",
    "typing this message becoz my trainer has told me to do so and thats why\n",
    "I m typing this useless message.\n",
    "\"\"\""
   ]
  },
  {
   "cell_type": "code",
   "execution_count": 81,
   "metadata": {},
   "outputs": [],
   "source": [
    "counter = {}\n",
    "words = 'abcdefghijklmnopqrstuuuvwxyz'\n",
    "for i in words:\n",
    "    counter[i] = sentence.count(i)"
   ]
  },
  {
   "cell_type": "code",
   "execution_count": 82,
   "metadata": {},
   "outputs": [
    {
     "data": {
      "text/plain": [
       "{'a': 10,\n",
       " 'b': 1,\n",
       " 'c': 2,\n",
       " 'd': 3,\n",
       " 'e': 16,\n",
       " 'f': 1,\n",
       " 'g': 5,\n",
       " 'h': 7,\n",
       " 'i': 9,\n",
       " 'j': 0,\n",
       " 'k': 0,\n",
       " 'l': 5,\n",
       " 'm': 8,\n",
       " 'n': 7,\n",
       " 'o': 7,\n",
       " 'p': 3,\n",
       " 'q': 0,\n",
       " 'r': 5,\n",
       " 's': 21,\n",
       " 't': 11,\n",
       " 'u': 1,\n",
       " 'v': 1,\n",
       " 'w': 1,\n",
       " 'x': 0,\n",
       " 'y': 5,\n",
       " 'z': 1}"
      ]
     },
     "execution_count": 82,
     "metadata": {},
     "output_type": "execute_result"
    }
   ],
   "source": [
    "counter"
   ]
  },
  {
   "cell_type": "code",
   "execution_count": 87,
   "metadata": {},
   "outputs": [],
   "source": [
    "counter1 = {}\n",
    "words1 = sentence.split()\n",
    "for i in words1:\n",
    "    counter1[i] = sentence.count(i)"
   ]
  },
  {
   "cell_type": "code",
   "execution_count": 88,
   "metadata": {},
   "outputs": [
    {
     "data": {
      "text/plain": [
       "{'This': 1,\n",
       " 'is': 5,\n",
       " 'a': 10,\n",
       " 'small': 1,\n",
       " 'message': 3,\n",
       " 'for': 1,\n",
       " 'everyone': 1,\n",
       " 'present': 1,\n",
       " 'in': 4,\n",
       " 'this': 3,\n",
       " 'class.': 1,\n",
       " 'I': 2,\n",
       " 'm': 8,\n",
       " 'typing': 2,\n",
       " 'becoz': 1,\n",
       " 'my': 1,\n",
       " 'trainer': 1,\n",
       " 'has': 1,\n",
       " 'told': 1,\n",
       " 'me': 4,\n",
       " 'to': 2,\n",
       " 'do': 1,\n",
       " 'so': 1,\n",
       " 'and': 1,\n",
       " 'thats': 1,\n",
       " 'why': 1,\n",
       " 'useless': 1,\n",
       " 'message.': 1}"
      ]
     },
     "execution_count": 88,
     "metadata": {},
     "output_type": "execute_result"
    }
   ],
   "source": [
    "counter1"
   ]
  },
  {
   "cell_type": "code",
   "execution_count": null,
   "metadata": {},
   "outputs": [],
   "source": []
  }
 ],
 "metadata": {
  "kernelspec": {
   "display_name": "Python 3",
   "language": "python",
   "name": "python3"
  },
  "language_info": {
   "codemirror_mode": {
    "name": "ipython",
    "version": 3
   },
   "file_extension": ".py",
   "mimetype": "text/x-python",
   "name": "python",
   "nbconvert_exporter": "python",
   "pygments_lexer": "ipython3",
   "version": "3.7.0"
  }
 },
 "nbformat": 4,
 "nbformat_minor": 2
}
