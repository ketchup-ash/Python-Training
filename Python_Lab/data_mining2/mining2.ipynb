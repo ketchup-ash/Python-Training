{
 "cells": [
  {
   "cell_type": "code",
   "execution_count": 2,
   "metadata": {},
   "outputs": [],
   "source": [
    "import requests\n",
    "from bs4 import BeautifulSoup\n",
    "import os"
   ]
  },
  {
   "cell_type": "code",
   "execution_count": 3,
   "metadata": {},
   "outputs": [],
   "source": [
    "def load(url):\n",
    "    try:\n",
    "        page = requests.get(url)\n",
    "        if page.status_code == 200:\n",
    "            print('Success')\n",
    "            return BeautifulSoup(page.text, 'lxml')\n",
    "        else:\n",
    "            print(page.status_code)\n",
    "            return None\n",
    "    except Exception as e:\n",
    "        print(e)"
   ]
  },
  {
   "cell_type": "code",
   "execution_count": 8,
   "metadata": {},
   "outputs": [],
   "source": [
    "def create_file(name):\n",
    "    if not os.path.exists('data'):\n",
    "        try:\n",
    "            os.mkdir('data')\n",
    "        except Exception as e:\n",
    "            print('Error ---')\n",
    "            print(e)\n",
    "    addr = os.path.join('data', name)  # path for file\n",
    "    with open(addr, 'w') as f:\n",
    "        f.write('rank, title, artist, link, imglink\\n')\n",
    "    print(f'file created {name}')\n",
    "    return addr"
   ]
  },
  {
   "cell_type": "code",
   "execution_count": 5,
   "metadata": {},
   "outputs": [
    {
     "name": "stdout",
     "output_type": "stream",
     "text": [
      "Success\n"
     ]
    }
   ],
   "source": [
    "url = \"https://www.apple.com/in/itunes/charts/songs/\"\n",
    "soup = load(url)"
   ]
  },
  {
   "cell_type": "code",
   "execution_count": 6,
   "metadata": {},
   "outputs": [],
   "source": [
    "grid = soup.find(attrs = {'class':'chart-grid'})"
   ]
  },
  {
   "cell_type": "code",
   "execution_count": 7,
   "metadata": {},
   "outputs": [],
   "source": [
    "song_name = [i.text for i in grid.find_all('h3')]\n",
    "artists = [i.text for i in grid.find_all('h4')]\n",
    "ranks = [i.text for i in grid.find_all('strong')]\n",
    "links = [item.a.attrs.get('href') for item in grid.find_all('h3')]\n",
    "imglink = [i.attrs.get('src') for i in grid.find_all('img')]"
   ]
  },
  {
   "cell_type": "code",
   "execution_count": 9,
   "metadata": {},
   "outputs": [
    {
     "name": "stdout",
     "output_type": "stream",
     "text": [
      "file created song_chart.csv\n"
     ]
    },
    {
     "data": {
      "text/plain": [
       "'data\\\\song_chart.csv'"
      ]
     },
     "execution_count": 9,
     "metadata": {},
     "output_type": "execute_result"
    }
   ],
   "source": [
    "create_file('song_chart.csv')"
   ]
  },
  {
   "cell_type": "code",
   "execution_count": 10,
   "metadata": {},
   "outputs": [
    {
     "name": "stdout",
     "output_type": "stream",
     "text": [
      "saved\n"
     ]
    }
   ],
   "source": [
    "file = open('data/song_chart.csv', 'a')     # a for append mode\n",
    "for r, s, a, l, i in zip(ranks, song_name, artists, links, imglink):\n",
    "    file.write(f'{r}, {s}, {a}, {l}, {i}\\n')\n",
    "file.close()\n",
    "print('saved')"
   ]
  },
  {
   "cell_type": "code",
   "execution_count": null,
   "metadata": {},
   "outputs": [],
   "source": []
  }
 ],
 "metadata": {
  "kernelspec": {
   "display_name": "Python 3",
   "language": "python",
   "name": "python3"
  },
  "language_info": {
   "codemirror_mode": {
    "name": "ipython",
    "version": 3
   },
   "file_extension": ".py",
   "mimetype": "text/x-python",
   "name": "python",
   "nbconvert_exporter": "python",
   "pygments_lexer": "ipython3",
   "version": "3.7.0"
  }
 },
 "nbformat": 4,
 "nbformat_minor": 2
}
