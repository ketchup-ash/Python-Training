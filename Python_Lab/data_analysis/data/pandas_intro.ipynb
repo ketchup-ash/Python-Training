{
 "cells": [
  {
   "cell_type": "code",
   "execution_count": 3,
   "metadata": {},
   "outputs": [],
   "source": [
    "import numpy as np\n",
    "import matplotlib.pyplot as plt\n",
    "import pandas as pd\n",
    "import seaborn as sns"
   ]
  },
  {
   "cell_type": "code",
   "execution_count": 32,
   "metadata": {},
   "outputs": [],
   "source": [
    "df = pd.read_csv('weather_2012.csv',\n",
    "                 parse_dates=True,\n",
    "                 index_col='Date/Time')"
   ]
  },
  {
   "cell_type": "code",
   "execution_count": 33,
   "metadata": {},
   "outputs": [
    {
     "data": {
      "text/html": [
       "<div>\n",
       "<style scoped>\n",
       "    .dataframe tbody tr th:only-of-type {\n",
       "        vertical-align: middle;\n",
       "    }\n",
       "\n",
       "    .dataframe tbody tr th {\n",
       "        vertical-align: top;\n",
       "    }\n",
       "\n",
       "    .dataframe thead th {\n",
       "        text-align: right;\n",
       "    }\n",
       "</style>\n",
       "<table border=\"1\" class=\"dataframe\">\n",
       "  <thead>\n",
       "    <tr style=\"text-align: right;\">\n",
       "      <th></th>\n",
       "      <th>Temp (C)</th>\n",
       "      <th>Dew Point Temp (C)</th>\n",
       "      <th>Rel Hum (%)</th>\n",
       "      <th>Wind Spd (km/h)</th>\n",
       "      <th>Visibility (km)</th>\n",
       "      <th>Stn Press (kPa)</th>\n",
       "      <th>Weather</th>\n",
       "    </tr>\n",
       "    <tr>\n",
       "      <th>Date/Time</th>\n",
       "      <th></th>\n",
       "      <th></th>\n",
       "      <th></th>\n",
       "      <th></th>\n",
       "      <th></th>\n",
       "      <th></th>\n",
       "      <th></th>\n",
       "    </tr>\n",
       "  </thead>\n",
       "  <tbody>\n",
       "    <tr>\n",
       "      <th>2012-01-01 00:00:00</th>\n",
       "      <td>-1.8</td>\n",
       "      <td>-3.9</td>\n",
       "      <td>86</td>\n",
       "      <td>4</td>\n",
       "      <td>8.0</td>\n",
       "      <td>101.24</td>\n",
       "      <td>Fog</td>\n",
       "    </tr>\n",
       "    <tr>\n",
       "      <th>2012-01-01 01:00:00</th>\n",
       "      <td>-1.8</td>\n",
       "      <td>-3.7</td>\n",
       "      <td>87</td>\n",
       "      <td>4</td>\n",
       "      <td>8.0</td>\n",
       "      <td>101.24</td>\n",
       "      <td>Fog</td>\n",
       "    </tr>\n",
       "  </tbody>\n",
       "</table>\n",
       "</div>"
      ],
      "text/plain": [
       "                     Temp (C)  Dew Point Temp (C)  Rel Hum (%)  \\\n",
       "Date/Time                                                        \n",
       "2012-01-01 00:00:00      -1.8                -3.9           86   \n",
       "2012-01-01 01:00:00      -1.8                -3.7           87   \n",
       "\n",
       "                     Wind Spd (km/h)  Visibility (km)  Stn Press (kPa) Weather  \n",
       "Date/Time                                                                       \n",
       "2012-01-01 00:00:00                4              8.0           101.24     Fog  \n",
       "2012-01-01 01:00:00                4              8.0           101.24     Fog  "
      ]
     },
     "execution_count": 33,
     "metadata": {},
     "output_type": "execute_result"
    }
   ],
   "source": [
    "df.head(2)"
   ]
  },
  {
   "cell_type": "code",
   "execution_count": 34,
   "metadata": {},
   "outputs": [
    {
     "data": {
      "text/html": [
       "<div>\n",
       "<style scoped>\n",
       "    .dataframe tbody tr th:only-of-type {\n",
       "        vertical-align: middle;\n",
       "    }\n",
       "\n",
       "    .dataframe tbody tr th {\n",
       "        vertical-align: top;\n",
       "    }\n",
       "\n",
       "    .dataframe thead th {\n",
       "        text-align: right;\n",
       "    }\n",
       "</style>\n",
       "<table border=\"1\" class=\"dataframe\">\n",
       "  <thead>\n",
       "    <tr style=\"text-align: right;\">\n",
       "      <th></th>\n",
       "      <th>Temp (C)</th>\n",
       "      <th>Dew Point Temp (C)</th>\n",
       "      <th>Rel Hum (%)</th>\n",
       "      <th>Wind Spd (km/h)</th>\n",
       "      <th>Visibility (km)</th>\n",
       "      <th>Stn Press (kPa)</th>\n",
       "      <th>Weather</th>\n",
       "    </tr>\n",
       "    <tr>\n",
       "      <th>Date/Time</th>\n",
       "      <th></th>\n",
       "      <th></th>\n",
       "      <th></th>\n",
       "      <th></th>\n",
       "      <th></th>\n",
       "      <th></th>\n",
       "      <th></th>\n",
       "    </tr>\n",
       "  </thead>\n",
       "  <tbody>\n",
       "    <tr>\n",
       "      <th>2012-12-31 23:00:00</th>\n",
       "      <td>0.0</td>\n",
       "      <td>-2.1</td>\n",
       "      <td>86</td>\n",
       "      <td>30</td>\n",
       "      <td>11.3</td>\n",
       "      <td>99.89</td>\n",
       "      <td>Snow</td>\n",
       "    </tr>\n",
       "  </tbody>\n",
       "</table>\n",
       "</div>"
      ],
      "text/plain": [
       "                     Temp (C)  Dew Point Temp (C)  Rel Hum (%)  \\\n",
       "Date/Time                                                        \n",
       "2012-12-31 23:00:00       0.0                -2.1           86   \n",
       "\n",
       "                     Wind Spd (km/h)  Visibility (km)  Stn Press (kPa) Weather  \n",
       "Date/Time                                                                       \n",
       "2012-12-31 23:00:00               30             11.3            99.89    Snow  "
      ]
     },
     "execution_count": 34,
     "metadata": {},
     "output_type": "execute_result"
    }
   ],
   "source": [
    "df.tail(1)"
   ]
  },
  {
   "cell_type": "code",
   "execution_count": 35,
   "metadata": {},
   "outputs": [
    {
     "name": "stdout",
     "output_type": "stream",
     "text": [
      "<class 'pandas.core.frame.DataFrame'>\n",
      "DatetimeIndex: 8784 entries, 2012-01-01 00:00:00 to 2012-12-31 23:00:00\n",
      "Data columns (total 7 columns):\n",
      "Temp (C)              8784 non-null float64\n",
      "Dew Point Temp (C)    8784 non-null float64\n",
      "Rel Hum (%)           8784 non-null int64\n",
      "Wind Spd (km/h)       8784 non-null int64\n",
      "Visibility (km)       8784 non-null float64\n",
      "Stn Press (kPa)       8784 non-null float64\n",
      "Weather               8784 non-null object\n",
      "dtypes: float64(4), int64(2), object(1)\n",
      "memory usage: 549.0+ KB\n"
     ]
    }
   ],
   "source": [
    "df.info()"
   ]
  },
  {
   "cell_type": "code",
   "execution_count": 36,
   "metadata": {},
   "outputs": [
    {
     "data": {
      "text/html": [
       "<div>\n",
       "<style scoped>\n",
       "    .dataframe tbody tr th:only-of-type {\n",
       "        vertical-align: middle;\n",
       "    }\n",
       "\n",
       "    .dataframe tbody tr th {\n",
       "        vertical-align: top;\n",
       "    }\n",
       "\n",
       "    .dataframe thead th {\n",
       "        text-align: right;\n",
       "    }\n",
       "</style>\n",
       "<table border=\"1\" class=\"dataframe\">\n",
       "  <thead>\n",
       "    <tr style=\"text-align: right;\">\n",
       "      <th></th>\n",
       "      <th>Temp (C)</th>\n",
       "      <th>Dew Point Temp (C)</th>\n",
       "      <th>Rel Hum (%)</th>\n",
       "      <th>Wind Spd (km/h)</th>\n",
       "      <th>Visibility (km)</th>\n",
       "      <th>Stn Press (kPa)</th>\n",
       "    </tr>\n",
       "  </thead>\n",
       "  <tbody>\n",
       "    <tr>\n",
       "      <th>count</th>\n",
       "      <td>8784.000000</td>\n",
       "      <td>8784.000000</td>\n",
       "      <td>8784.000000</td>\n",
       "      <td>8784.000000</td>\n",
       "      <td>8784.000000</td>\n",
       "      <td>8784.000000</td>\n",
       "    </tr>\n",
       "    <tr>\n",
       "      <th>mean</th>\n",
       "      <td>8.798144</td>\n",
       "      <td>2.555294</td>\n",
       "      <td>67.431694</td>\n",
       "      <td>14.945469</td>\n",
       "      <td>27.664447</td>\n",
       "      <td>101.051623</td>\n",
       "    </tr>\n",
       "    <tr>\n",
       "      <th>std</th>\n",
       "      <td>11.687883</td>\n",
       "      <td>10.883072</td>\n",
       "      <td>16.918881</td>\n",
       "      <td>8.688696</td>\n",
       "      <td>12.622688</td>\n",
       "      <td>0.844005</td>\n",
       "    </tr>\n",
       "    <tr>\n",
       "      <th>min</th>\n",
       "      <td>-23.300000</td>\n",
       "      <td>-28.500000</td>\n",
       "      <td>18.000000</td>\n",
       "      <td>0.000000</td>\n",
       "      <td>0.200000</td>\n",
       "      <td>97.520000</td>\n",
       "    </tr>\n",
       "    <tr>\n",
       "      <th>25%</th>\n",
       "      <td>0.100000</td>\n",
       "      <td>-5.900000</td>\n",
       "      <td>56.000000</td>\n",
       "      <td>9.000000</td>\n",
       "      <td>24.100000</td>\n",
       "      <td>100.560000</td>\n",
       "    </tr>\n",
       "    <tr>\n",
       "      <th>50%</th>\n",
       "      <td>9.300000</td>\n",
       "      <td>3.300000</td>\n",
       "      <td>68.000000</td>\n",
       "      <td>13.000000</td>\n",
       "      <td>25.000000</td>\n",
       "      <td>101.070000</td>\n",
       "    </tr>\n",
       "    <tr>\n",
       "      <th>75%</th>\n",
       "      <td>18.800000</td>\n",
       "      <td>11.800000</td>\n",
       "      <td>81.000000</td>\n",
       "      <td>20.000000</td>\n",
       "      <td>25.000000</td>\n",
       "      <td>101.590000</td>\n",
       "    </tr>\n",
       "    <tr>\n",
       "      <th>max</th>\n",
       "      <td>33.000000</td>\n",
       "      <td>24.400000</td>\n",
       "      <td>100.000000</td>\n",
       "      <td>83.000000</td>\n",
       "      <td>48.300000</td>\n",
       "      <td>103.650000</td>\n",
       "    </tr>\n",
       "  </tbody>\n",
       "</table>\n",
       "</div>"
      ],
      "text/plain": [
       "          Temp (C)  Dew Point Temp (C)  Rel Hum (%)  Wind Spd (km/h)  \\\n",
       "count  8784.000000         8784.000000  8784.000000      8784.000000   \n",
       "mean      8.798144            2.555294    67.431694        14.945469   \n",
       "std      11.687883           10.883072    16.918881         8.688696   \n",
       "min     -23.300000          -28.500000    18.000000         0.000000   \n",
       "25%       0.100000           -5.900000    56.000000         9.000000   \n",
       "50%       9.300000            3.300000    68.000000        13.000000   \n",
       "75%      18.800000           11.800000    81.000000        20.000000   \n",
       "max      33.000000           24.400000   100.000000        83.000000   \n",
       "\n",
       "       Visibility (km)  Stn Press (kPa)  \n",
       "count      8784.000000      8784.000000  \n",
       "mean         27.664447       101.051623  \n",
       "std          12.622688         0.844005  \n",
       "min           0.200000        97.520000  \n",
       "25%          24.100000       100.560000  \n",
       "50%          25.000000       101.070000  \n",
       "75%          25.000000       101.590000  \n",
       "max          48.300000       103.650000  "
      ]
     },
     "execution_count": 36,
     "metadata": {},
     "output_type": "execute_result"
    }
   ],
   "source": [
    "df.describe()"
   ]
  },
  {
   "cell_type": "code",
   "execution_count": 37,
   "metadata": {},
   "outputs": [
    {
     "data": {
      "text/plain": [
       "Date/Time\n",
       "2012-01-01 00:00:00    -1.8\n",
       "2012-01-01 01:00:00    -1.8\n",
       "2012-01-01 02:00:00    -1.8\n",
       "2012-01-01 03:00:00    -1.5\n",
       "2012-01-01 04:00:00    -1.5\n",
       "2012-01-01 05:00:00    -1.4\n",
       "2012-01-01 06:00:00    -1.5\n",
       "2012-01-01 07:00:00    -1.4\n",
       "2012-01-01 08:00:00    -1.4\n",
       "2012-01-01 09:00:00    -1.3\n",
       "2012-01-01 10:00:00    -1.0\n",
       "2012-01-01 11:00:00    -0.5\n",
       "2012-01-01 12:00:00    -0.2\n",
       "2012-01-01 13:00:00     0.2\n",
       "2012-01-01 14:00:00     0.8\n",
       "2012-01-01 15:00:00     1.8\n",
       "2012-01-01 16:00:00     2.6\n",
       "2012-01-01 17:00:00     3.0\n",
       "2012-01-01 18:00:00     3.8\n",
       "2012-01-01 19:00:00     3.1\n",
       "2012-01-01 20:00:00     3.2\n",
       "2012-01-01 21:00:00     4.0\n",
       "2012-01-01 22:00:00     4.4\n",
       "2012-01-01 23:00:00     5.3\n",
       "2012-01-02 00:00:00     5.2\n",
       "2012-01-02 01:00:00     4.6\n",
       "2012-01-02 02:00:00     3.9\n",
       "2012-01-02 03:00:00     3.7\n",
       "2012-01-02 04:00:00     2.9\n",
       "2012-01-02 05:00:00     2.6\n",
       "                       ... \n",
       "2012-12-30 18:00:00   -12.6\n",
       "2012-12-30 19:00:00   -13.4\n",
       "2012-12-30 20:00:00   -13.8\n",
       "2012-12-30 21:00:00   -13.8\n",
       "2012-12-30 22:00:00   -13.7\n",
       "2012-12-30 23:00:00   -12.1\n",
       "2012-12-31 00:00:00   -11.1\n",
       "2012-12-31 01:00:00   -10.7\n",
       "2012-12-31 02:00:00   -10.1\n",
       "2012-12-31 03:00:00   -11.8\n",
       "2012-12-31 04:00:00   -10.5\n",
       "2012-12-31 05:00:00   -10.2\n",
       "2012-12-31 06:00:00    -9.7\n",
       "2012-12-31 07:00:00    -9.3\n",
       "2012-12-31 08:00:00    -8.6\n",
       "2012-12-31 09:00:00    -8.1\n",
       "2012-12-31 10:00:00    -7.4\n",
       "2012-12-31 11:00:00    -6.7\n",
       "2012-12-31 12:00:00    -5.8\n",
       "2012-12-31 13:00:00    -4.6\n",
       "2012-12-31 14:00:00    -3.4\n",
       "2012-12-31 15:00:00    -2.3\n",
       "2012-12-31 16:00:00    -1.4\n",
       "2012-12-31 17:00:00    -1.1\n",
       "2012-12-31 18:00:00    -1.3\n",
       "2012-12-31 19:00:00     0.1\n",
       "2012-12-31 20:00:00     0.2\n",
       "2012-12-31 21:00:00    -0.5\n",
       "2012-12-31 22:00:00    -0.2\n",
       "2012-12-31 23:00:00     0.0\n",
       "Name: Temp (C), Length: 8784, dtype: float64"
      ]
     },
     "execution_count": 37,
     "metadata": {},
     "output_type": "execute_result"
    }
   ],
   "source": [
    "df['Temp (C)']"
   ]
  },
  {
   "cell_type": "code",
   "execution_count": 38,
   "metadata": {},
   "outputs": [
    {
     "data": {
      "text/plain": [
       "<matplotlib.axes._subplots.AxesSubplot at 0x7f8a028bbc88>"
      ]
     },
     "execution_count": 38,
     "metadata": {},
     "output_type": "execute_result"
    },
    {
     "data": {
      "image/png": "[encoded data removed]",
      "text/plain": [
       "<Figure size 432x288 with 1 Axes>"
      ]
     },
     "metadata": {
      "needs_background": "light"
     },
     "output_type": "display_data"
    }
   ],
   "source": [
    "df['Temp (C)'].hist()"
   ]
  },
  {
   "cell_type": "code",
   "execution_count": 39,
   "metadata": {},
   "outputs": [
    {
     "data": {
      "text/plain": [
       "<matplotlib.axes._subplots.AxesSubplot at 0x7f8a04acbda0>"
      ]
     },
     "execution_count": 39,
     "metadata": {},
     "output_type": "execute_result"
    },
    {
     "data": {
      "image/png": "[encoded data removed]",
      "text/plain": [
       "<Figure size 432x288 with 1 Axes>"
      ]
     },
     "metadata": {
      "needs_background": "light"
     },
     "output_type": "display_data"
    }
   ],
   "source": [
    "df.plot()"
   ]
  },
  {
   "cell_type": "code",
   "execution_count": 42,
   "metadata": {},
   "outputs": [
    {
     "data": {
      "text/plain": [
       "<matplotlib.axes._subplots.AxesSubplot at 0x7f8a026be9e8>"
      ]
     },
     "execution_count": 42,
     "metadata": {},
     "output_type": "execute_result"
    },
    {
     "data": {
      "image/png": "[encoded data removed]",
      "text/plain": [
       "<Figure size 432x288 with 1 Axes>"
      ]
     },
     "metadata": {
      "needs_background": "light"
     },
     "output_type": "display_data"
    }
   ],
   "source": [
    "#boolean filter\n",
    "df[df['Weather'] == 'Snow']['Temp (C)'].plot(style='g.')\n"
   ]
  },
  {
   "cell_type": "code",
   "execution_count": 43,
   "metadata": {},
   "outputs": [
    {
     "data": {
      "text/plain": [
       "<matplotlib.axes._subplots.AxesSubplot at 0x7f8a02621320>"
      ]
     },
     "execution_count": 43,
     "metadata": {},
     "output_type": "execute_result"
    },
    {
     "data": {
      "image/png": "[encoded data removed]",
      "text/plain": [
       "<Figure size 432x288 with 1 Axes>"
      ]
     },
     "metadata": {
      "needs_background": "light"
     },
     "output_type": "display_data"
    }
   ],
   "source": [
    "is_snow = df['Weather'] == 'Snow'\n",
    "snowdf = df[is_snow]\n",
    "snowdf['Temp (C)'].plot(style='g.')"
   ]
  },
  {
   "cell_type": "code",
   "execution_count": null,
   "metadata": {},
   "outputs": [],
   "source": []
  }
 ],
 "metadata": {
  "kernelspec": {
   "display_name": "Python 3",
   "language": "python",
   "name": "python3"
  },
  "language_info": {
   "codemirror_mode": {
    "name": "ipython",
    "version": 3
   },
   "file_extension": ".py",
   "mimetype": "text/x-python",
   "name": "python",
   "nbconvert_exporter": "python",
   "pygments_lexer": "ipython3",
   "version": "3.7.1"
  }
 },
 "nbformat": 4,
 "nbformat_minor": 2
}
