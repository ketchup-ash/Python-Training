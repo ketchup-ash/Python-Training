{
 "cells": [
  {
   "cell_type": "code",
   "execution_count": 6,
   "metadata": {},
   "outputs": [
    {
     "name": "stdin",
     "output_type": "stream",
     "text": [
      "Enter a sentence This is a sentence\n"
     ]
    },
    {
     "name": "stdout",
     "output_type": "stream",
     "text": [
      "Sentence: __i_ i_ a _e__e__e\n"
     ]
    }
   ],
   "source": [
    "sentence = input('Enter a sentence')\n",
    "vowel = 'bcdfghjklmnpqrstvwxyz'\n",
    "vowel_in_capital = vowel.upper()\n",
    "for i in vowel:\n",
    "    sentence = sentence.replace(i, '_')\n",
    "for i in vowel_in_capital:\n",
    "    sentence = sentence.replace(i, '_')\n",
    "print('Sentence:', sentence)"
   ]
  },
  {
   "cell_type": "code",
   "execution_count": null,
   "metadata": {},
   "outputs": [],
   "source": []
  }
 ],
 "metadata": {
  "kernelspec": {
   "display_name": "Python 3",
   "language": "python",
   "name": "python3"
  },
  "language_info": {
   "codemirror_mode": {
    "name": "ipython",
    "version": 3
   },
   "file_extension": ".py",
   "mimetype": "text/x-python",
   "name": "python",
   "nbconvert_exporter": "python",
   "pygments_lexer": "ipython3",
   "version": "3.7.0"
  }
 },
 "nbformat": 4,
 "nbformat_minor": 2
}
