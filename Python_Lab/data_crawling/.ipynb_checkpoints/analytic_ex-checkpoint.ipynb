{
 "cells": [
  {
   "cell_type": "code",
   "execution_count": 1,
   "metadata": {},
   "outputs": [],
   "source": [
    "import pandas as pd\n",
    "import numpy as np\n",
    "import matplotlib.pyplot as plt\n",
    "import seaborn as sns"
   ]
  },
  {
   "cell_type": "code",
   "execution_count": 2,
   "metadata": {},
   "outputs": [],
   "source": [
    "import os"
   ]
  },
  {
   "cell_type": "code",
   "execution_count": 18,
   "metadata": {},
   "outputs": [],
   "source": [
    "file = \"E:\\Programs\\Python\\Python Lab1\\data_crawler\\out.csv\""
   ]
  },
  {
   "cell_type": "code",
   "execution_count": 19,
   "metadata": {},
   "outputs": [
    {
     "data": {
      "text/plain": [
       "True"
      ]
     },
     "execution_count": 19,
     "metadata": {},
     "output_type": "execute_result"
    }
   ],
   "source": [
    "os.path.exists(file)"
   ]
  },
  {
   "cell_type": "code",
   "execution_count": 20,
   "metadata": {},
   "outputs": [],
   "source": [
    "df = pd.read_csv(file)"
   ]
  },
  {
   "cell_type": "code",
   "execution_count": 21,
   "metadata": {},
   "outputs": [
    {
     "data": {
      "text/html": [
       "<div>\n",
       "<style scoped>\n",
       "    .dataframe tbody tr th:only-of-type {\n",
       "        vertical-align: middle;\n",
       "    }\n",
       "\n",
       "    .dataframe tbody tr th {\n",
       "        vertical-align: top;\n",
       "    }\n",
       "\n",
       "    .dataframe thead th {\n",
       "        text-align: right;\n",
       "    }\n",
       "</style>\n",
       "<table border=\"1\" class=\"dataframe\">\n",
       "  <thead>\n",
       "    <tr style=\"text-align: right;\">\n",
       "      <th></th>\n",
       "      <th>title</th>\n",
       "      <th>artist</th>\n",
       "      <th>rank</th>\n",
       "      <th>link</th>\n",
       "      <th>imgsrc</th>\n",
       "    </tr>\n",
       "  </thead>\n",
       "  <tbody>\n",
       "    <tr>\n",
       "      <th>0</th>\n",
       "      <td>Tera Ghata</td>\n",
       "      <td>Gajendra Verma</td>\n",
       "      <td>1</td>\n",
       "      <td>https://itunes.apple.com/in/album/tera-ghata/1...</td>\n",
       "      <td>/autopush/in/itunes/charts/songs/images/2018/8...</td>\n",
       "    </tr>\n",
       "    <tr>\n",
       "      <th>1</th>\n",
       "      <td>Dilbar (From \"Satyameva Jayate\")</td>\n",
       "      <td>Neha Kakkar, Dhvani Bhanusali, Ikka &amp; Tanishk ...</td>\n",
       "      <td>2</td>\n",
       "      <td>https://itunes.apple.com/in/album/dilbar-from-...</td>\n",
       "      <td>/autopush/in/itunes/charts/songs/images/2018/8...</td>\n",
       "    </tr>\n",
       "    <tr>\n",
       "      <th>2</th>\n",
       "      <td>Dhadak Title Track</td>\n",
       "      <td>Ajay Gogavale &amp; Shreya Ghoshal</td>\n",
       "      <td>3</td>\n",
       "      <td>https://itunes.apple.com/in/album/dhadak-title...</td>\n",
       "      <td>/autopush/in/itunes/charts/songs/images/2018/8...</td>\n",
       "    </tr>\n",
       "    <tr>\n",
       "      <th>3</th>\n",
       "      <td>Tareefan</td>\n",
       "      <td>Qaran &amp; Badshah</td>\n",
       "      <td>4</td>\n",
       "      <td>https://itunes.apple.com/in/album/tareefan/138...</td>\n",
       "      <td>/autopush/in/itunes/charts/songs/images/2018/8...</td>\n",
       "    </tr>\n",
       "    <tr>\n",
       "      <th>4</th>\n",
       "      <td>Dilbar</td>\n",
       "      <td>Neha Kakkar, Dhvani Bhanusali &amp; Ikka</td>\n",
       "      <td>5</td>\n",
       "      <td>https://itunes.apple.com/in/album/dilbar/14204...</td>\n",
       "      <td>/autopush/in/itunes/charts/songs/images/2018/8...</td>\n",
       "    </tr>\n",
       "  </tbody>\n",
       "</table>\n",
       "</div>"
      ],
      "text/plain": [
       "                              title  \\\n",
       "0                        Tera Ghata   \n",
       "1  Dilbar (From \"Satyameva Jayate\")   \n",
       "2                Dhadak Title Track   \n",
       "3                          Tareefan   \n",
       "4                            Dilbar   \n",
       "\n",
       "                                              artist  rank  \\\n",
       "0                                     Gajendra Verma     1   \n",
       "1  Neha Kakkar, Dhvani Bhanusali, Ikka & Tanishk ...     2   \n",
       "2                     Ajay Gogavale & Shreya Ghoshal     3   \n",
       "3                                    Qaran & Badshah     4   \n",
       "4               Neha Kakkar, Dhvani Bhanusali & Ikka     5   \n",
       "\n",
       "                                                link  \\\n",
       "0  https://itunes.apple.com/in/album/tera-ghata/1...   \n",
       "1  https://itunes.apple.com/in/album/dilbar-from-...   \n",
       "2  https://itunes.apple.com/in/album/dhadak-title...   \n",
       "3  https://itunes.apple.com/in/album/tareefan/138...   \n",
       "4  https://itunes.apple.com/in/album/dilbar/14204...   \n",
       "\n",
       "                                              imgsrc  \n",
       "0  /autopush/in/itunes/charts/songs/images/2018/8...  \n",
       "1  /autopush/in/itunes/charts/songs/images/2018/8...  \n",
       "2  /autopush/in/itunes/charts/songs/images/2018/8...  \n",
       "3  /autopush/in/itunes/charts/songs/images/2018/8...  \n",
       "4  /autopush/in/itunes/charts/songs/images/2018/8...  "
      ]
     },
     "execution_count": 21,
     "metadata": {},
     "output_type": "execute_result"
    }
   ],
   "source": [
    "df.head()"
   ]
  },
  {
   "cell_type": "code",
   "execution_count": 22,
   "metadata": {},
   "outputs": [
    {
     "name": "stdout",
     "output_type": "stream",
     "text": [
      "<class 'pandas.core.frame.DataFrame'>\n",
      "RangeIndex: 100 entries, 0 to 99\n",
      "Data columns (total 5 columns):\n",
      "title     100 non-null object\n",
      "artist    100 non-null object\n",
      "rank      100 non-null int64\n",
      "link      100 non-null object\n",
      "imgsrc    100 non-null object\n",
      "dtypes: int64(1), object(4)\n",
      "memory usage: 4.0+ KB\n"
     ]
    }
   ],
   "source": [
    "df.info()"
   ]
  },
  {
   "cell_type": "code",
   "execution_count": null,
   "metadata": {},
   "outputs": [],
   "source": []
  }
 ],
 "metadata": {
  "kernelspec": {
   "display_name": "Python 3",
   "language": "python",
   "name": "python3"
  },
  "language_info": {
   "codemirror_mode": {
    "name": "ipython",
    "version": 3
   },
   "file_extension": ".py",
   "mimetype": "text/x-python",
   "name": "python",
   "nbconvert_exporter": "python",
   "pygments_lexer": "ipython3",
   "version": "3.7.0"
  }
 },
 "nbformat": 4,
 "nbformat_minor": 2
}
