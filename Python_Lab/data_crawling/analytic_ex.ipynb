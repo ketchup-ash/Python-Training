{
 "cells": [
  {
   "cell_type": "code",
   "execution_count": 16,
   "metadata": {},
   "outputs": [],
   "source": [
    "import pandas as pd\n",
    "import numpy as np\n",
    "import matplotlib.pyplot as plt\n",
    "import seaborn as sns"
   ]
  },
  {
   "cell_type": "code",
   "execution_count": 17,
   "metadata": {},
   "outputs": [],
   "source": [
    "import os"
   ]
  },
  {
   "cell_type": "code",
   "execution_count": 18,
   "metadata": {},
   "outputs": [],
   "source": [
    "file = \"E:\\Programs\\Python\\Python Lab1\\data_crawler\\out.csv\""
   ]
  },
  {
   "cell_type": "code",
   "execution_count": 19,
   "metadata": {},
   "outputs": [
    {
     "data": {
      "text/plain": [
       "True"
      ]
     },
     "execution_count": 19,
     "metadata": {},
     "output_type": "execute_result"
    }
   ],
   "source": [
    "os.path.exists(file)"
   ]
  },
  {
   "cell_type": "code",
   "execution_count": 20,
   "metadata": {},
   "outputs": [],
   "source": [
    "df = pd.read_csv(file)"
   ]
  },
  {
   "cell_type": "code",
   "execution_count": 21,
   "metadata": {},
   "outputs": [
    {
     "data": {
      "text/html": [
       "<div>\n",
       "<style scoped>\n",
       "    .dataframe tbody tr th:only-of-type {\n",
       "        vertical-align: middle;\n",
       "    }\n",
       "\n",
       "    .dataframe tbody tr th {\n",
       "        vertical-align: top;\n",
       "    }\n",
       "\n",
       "    .dataframe thead th {\n",
       "        text-align: right;\n",
       "    }\n",
       "</style>\n",
       "<table border=\"1\" class=\"dataframe\">\n",
       "  <thead>\n",
       "    <tr style=\"text-align: right;\">\n",
       "      <th></th>\n",
       "      <th>title</th>\n",
       "      <th>artist</th>\n",
       "      <th>rank</th>\n",
       "      <th>link</th>\n",
       "      <th>imgsrc</th>\n",
       "    </tr>\n",
       "  </thead>\n",
       "  <tbody>\n",
       "    <tr>\n",
       "      <th>0</th>\n",
       "      <td>Tera Ghata</td>\n",
       "      <td>Gajendra Verma</td>\n",
       "      <td>1</td>\n",
       "      <td>https://itunes.apple.com/in/album/tera-ghata/1...</td>\n",
       "      <td>/autopush/in/itunes/charts/songs/images/2018/8...</td>\n",
       "    </tr>\n",
       "    <tr>\n",
       "      <th>1</th>\n",
       "      <td>Dilbar (From \"Satyameva Jayate\")</td>\n",
       "      <td>Neha Kakkar, Dhvani Bhanusali, Ikka &amp; Tanishk ...</td>\n",
       "      <td>2</td>\n",
       "      <td>https://itunes.apple.com/in/album/dilbar-from-...</td>\n",
       "      <td>/autopush/in/itunes/charts/songs/images/2018/8...</td>\n",
       "    </tr>\n",
       "    <tr>\n",
       "      <th>2</th>\n",
       "      <td>Dhadak Title Track</td>\n",
       "      <td>Ajay Gogavale &amp; Shreya Ghoshal</td>\n",
       "      <td>3</td>\n",
       "      <td>https://itunes.apple.com/in/album/dhadak-title...</td>\n",
       "      <td>/autopush/in/itunes/charts/songs/images/2018/8...</td>\n",
       "    </tr>\n",
       "    <tr>\n",
       "      <th>3</th>\n",
       "      <td>Tareefan</td>\n",
       "      <td>Qaran &amp; Badshah</td>\n",
       "      <td>4</td>\n",
       "      <td>https://itunes.apple.com/in/album/tareefan/138...</td>\n",
       "      <td>/autopush/in/itunes/charts/songs/images/2018/8...</td>\n",
       "    </tr>\n",
       "    <tr>\n",
       "      <th>4</th>\n",
       "      <td>Dilbar</td>\n",
       "      <td>Neha Kakkar, Dhvani Bhanusali &amp; Ikka</td>\n",
       "      <td>5</td>\n",
       "      <td>https://itunes.apple.com/in/album/dilbar/14204...</td>\n",
       "      <td>/autopush/in/itunes/charts/songs/images/2018/8...</td>\n",
       "    </tr>\n",
       "  </tbody>\n",
       "</table>\n",
       "</div>"
      ],
      "text/plain": [
       "                              title  \\\n",
       "0                        Tera Ghata   \n",
       "1  Dilbar (From \"Satyameva Jayate\")   \n",
       "2                Dhadak Title Track   \n",
       "3                          Tareefan   \n",
       "4                            Dilbar   \n",
       "\n",
       "                                              artist  rank  \\\n",
       "0                                     Gajendra Verma     1   \n",
       "1  Neha Kakkar, Dhvani Bhanusali, Ikka & Tanishk ...     2   \n",
       "2                     Ajay Gogavale & Shreya Ghoshal     3   \n",
       "3                                    Qaran & Badshah     4   \n",
       "4               Neha Kakkar, Dhvani Bhanusali & Ikka     5   \n",
       "\n",
       "                                                link  \\\n",
       "0  https://itunes.apple.com/in/album/tera-ghata/1...   \n",
       "1  https://itunes.apple.com/in/album/dilbar-from-...   \n",
       "2  https://itunes.apple.com/in/album/dhadak-title...   \n",
       "3  https://itunes.apple.com/in/album/tareefan/138...   \n",
       "4  https://itunes.apple.com/in/album/dilbar/14204...   \n",
       "\n",
       "                                              imgsrc  \n",
       "0  /autopush/in/itunes/charts/songs/images/2018/8...  \n",
       "1  /autopush/in/itunes/charts/songs/images/2018/8...  \n",
       "2  /autopush/in/itunes/charts/songs/images/2018/8...  \n",
       "3  /autopush/in/itunes/charts/songs/images/2018/8...  \n",
       "4  /autopush/in/itunes/charts/songs/images/2018/8...  "
      ]
     },
     "execution_count": 21,
     "metadata": {},
     "output_type": "execute_result"
    }
   ],
   "source": [
    "df.head()"
   ]
  },
  {
   "cell_type": "code",
   "execution_count": 22,
   "metadata": {},
   "outputs": [
    {
     "name": "stdout",
     "output_type": "stream",
     "text": [
      "<class 'pandas.core.frame.DataFrame'>\n",
      "RangeIndex: 100 entries, 0 to 99\n",
      "Data columns (total 5 columns):\n",
      "title     100 non-null object\n",
      "artist    100 non-null object\n",
      "rank      100 non-null int64\n",
      "link      100 non-null object\n",
      "imgsrc    100 non-null object\n",
      "dtypes: int64(1), object(4)\n",
      "memory usage: 4.0+ KB\n"
     ]
    }
   ],
   "source": [
    "df.info()"
   ]
  },
  {
   "cell_type": "code",
   "execution_count": 23,
   "metadata": {},
   "outputs": [
    {
     "data": {
      "text/plain": [
       "0                                            Tera Ghata\n",
       "1                      Dilbar (From \"Satyameva Jayate\")\n",
       "2                                    Dhadak Title Track\n",
       "3                                              Tareefan\n",
       "4                                                Dilbar\n",
       "5                                           Halka Halka\n",
       "6     Inkem Inkem Inkem Kaavaale (From \"Geetha Govin...\n",
       "7                                   Kiki Do You Love Me\n",
       "8                            Inkem Inkem Inkem Kaavaale\n",
       "9                                               Zingaat\n",
       "10                 Paniyon Sa (From \"Satyameva Jayate\")\n",
       "11                                       In My Feelings\n",
       "12                                      Chota Sa Fasana\n",
       "13                                              Dilbaro\n",
       "14               Darkside (feat. Au/Ra & Tomine Harket)\n",
       "15                                         High On Love\n",
       "16                                                Morni\n",
       "17                                                Faded\n",
       "18                                          Ishare Tere\n",
       "19                                                Prada\n",
       "20                                             Believer\n",
       "21                                           Paniyon Sa\n",
       "22                         Daryaa (From \"Manmarziyaan\")\n",
       "23                                     Dil Diyan Gallan\n",
       "24                                      Bom Diggy Diggy\n",
       "25                              Heeriye (From \"Race 3\")\n",
       "26                            Havana (feat. Young Thug)\n",
       "27                 High Rated Gabru (From \"Nawabzaade\")\n",
       "28                              Ae Watan (Male Version)\n",
       "29                                           Pehli Baar\n",
       "                            ...                        \n",
       "70                                         Lambi Judaai\n",
       "71                                 Ocean (feat. Khalid)\n",
       "72                                           Pillaa Raa\n",
       "73                                                Alone\n",
       "74                                  Shiv Tandav Stotram\n",
       "75                                           Aaya Na Tu\n",
       "76                                    Ishq Di Baajiyaan\n",
       "77               Illegal Weapon (feat. Jasmine Sandlas)\n",
       "78                                          Back to You\n",
       "79                                Kar Har Maidaan Fateh\n",
       "80                    Tera Woh Pyar (Nawazishein Karam)\n",
       "81                                     Naino Ne Baandhi\n",
       "82                           Laung Laachi (Title Track)\n",
       "83                          Tera Fitoor (From \"Genius\")\n",
       "84                     Dil Meri Na Sune (From \"Genius\")\n",
       "85                                            Happy Now\n",
       "86                                           Rain Fight\n",
       "87                                            Masstaani\n",
       "88                                             Saansein\n",
       "89                                          Ghane Badra\n",
       "90                                          Yenti Yenti\n",
       "91                                           Tu Jo Mila\n",
       "92                           rockstar (feat. 21 Savage)\n",
       "93                       Girls Like You (feat. Cardi B)\n",
       "94                                             Mohabbat\n",
       "95                                         Maa Ka Phone\n",
       "96                                           I'm a Mess\n",
       "97                                           Main Title\n",
       "98                                                 Rooh\n",
       "99                                           Tere Jaisa\n",
       "Name: title, Length: 100, dtype: object"
      ]
     },
     "execution_count": 23,
     "metadata": {},
     "output_type": "execute_result"
    }
   ],
   "source": [
    "df['title']"
   ]
  },
  {
   "cell_type": "code",
   "execution_count": 24,
   "metadata": {},
   "outputs": [
    {
     "data": {
      "text/plain": [
       "Arijit Singh                                            5\n",
       "Atif Aslam                                              4\n",
       "Alan Walker                                             3\n",
       "Sid Sriram                                              2\n",
       "DJ Snake                                                2\n",
       "Zack Knight & Jasmin Walia                              2\n",
       "Guru Randhawa                                           2\n",
       "Sunidhi Chauhan                                         2\n",
       "Ed Sheeran                                              2\n",
       "Arko                                                    1\n",
       "Ritviz                                                  1\n",
       "Bebe Rexha                                              1\n",
       "Yuvan Shankar Raja & Sid Sriram                         1\n",
       "Jonita Gandhi & Rana Mazumder                           1\n",
       "Post Malone                                             1\n",
       "Guru Randhawa & Vee                                     1\n",
       "Pritam, Amit Mishra & Shilpa Rao                        1\n",
       "Meet Bros, Deep Money & Neha Bhasin                     1\n",
       "Luis Fonsi                                              1\n",
       "Qaran & Badshah                                         1\n",
       "Camila Cabello                                          1\n",
       "K. K.                                                   1\n",
       "Jass Manak                                              1\n",
       "Sona Mohapatra & Ram Sampath                            1\n",
       "David Guetta                                            1\n",
       "Tej Gill                                                1\n",
       "Lisa Mishra & Qaran                                     1\n",
       "Anurag Kulkarni                                         1\n",
       "Ajay-Atul                                               1\n",
       "Amit Trivedi, Ammy Virk & Shahid Mallya                 1\n",
       "                                                       ..\n",
       "Guru Randhawa, Arjun & Intense                          1\n",
       "Ramin Djawadi                                           1\n",
       "Sunidhi Chauhan & Divya Kumar                           1\n",
       "Shankar-Ehsaan-Loy & Diljit Dosanjh                     1\n",
       "Sidhu Moosewala                                         1\n",
       "Rahat Fateh Ali Khan                                    1\n",
       "Selena Gomez                                            1\n",
       "Chinmayi                                                1\n",
       "Harshdeep Kaur, Vibha Saraf & Shankar Mahadevan         1\n",
       "Sunidhi Chauhan, Divya Kumar & Amit Trivedi             1\n",
       "Atif Aslam & Tulsi Kumar                                1\n",
       "Guru Randhawa & Dhvani Bhanushali                       1\n",
       "Komal Rizvi                                             1\n",
       "Sunanda Sharma                                          1\n",
       "DJ Mazik                                                1\n",
       "Zedd & Elley Duhé                                       1\n",
       "Vishal Dadlani & Neha Bhasin                            1\n",
       "Garry Sandhu                                            1\n",
       "Martin Garrix                                           1\n",
       "J Balvin & Willy William                                1\n",
       "B Praak                                                 1\n",
       "Santhosh Narayanan                                      1\n",
       "Tulsi Kumar & Arko                                      1\n",
       "Ajay Gogavale & Shreya Ghoshal                          1\n",
       "Gajendra Verma                                          1\n",
       "Neha Kakkar, Dhvani Bhanusali & Ikka                    1\n",
       "Prateek Kuhad                                           1\n",
       "Shankar Mahadevan                                       1\n",
       "Imagine Dragons                                         1\n",
       "Neha Kakkar, Dhvani Bhanusali, Ikka & Tanishk Bagchi    1\n",
       "Name: artist, Length: 85, dtype: int64"
      ]
     },
     "execution_count": 24,
     "metadata": {},
     "output_type": "execute_result"
    }
   ],
   "source": [
    "df.artist.value_counts()"
   ]
  },
  {
   "cell_type": "code",
   "execution_count": 25,
   "metadata": {},
   "outputs": [
    {
     "data": {
      "text/plain": [
       "<matplotlib.axes._subplots.AxesSubplot at 0x210133e0400>"
      ]
     },
     "execution_count": 25,
     "metadata": {},
     "output_type": "execute_result"
    },
    {
     "data": {
      "image/png": "[encoded data removed]",
      "text/plain": [
       "<Figure size 432x288 with 1 Axes>"
      ]
     },
     "metadata": {
      "needs_background": "light"
     },
     "output_type": "display_data"
    }
   ],
   "source": [
    "df.artist.value_counts().head(10).plot(kind = 'bar')"
   ]
  },
  {
   "cell_type": "code",
   "execution_count": 26,
   "metadata": {},
   "outputs": [
    {
     "data": {
      "image/png": "[encoded data removed]",
      "text/plain": [
       "<Figure size 432x288 with 1 Axes>"
      ]
     },
     "metadata": {
      "needs_background": "light"
     },
     "output_type": "display_data"
    }
   ],
   "source": [
    "df.artist.value_counts().head(10).plot(kind = 'bar')\n",
    "plt.savefig('top_10artist.png', bbox_inches = 'tight')"
   ]
  },
  {
   "cell_type": "code",
   "execution_count": 27,
   "metadata": {},
   "outputs": [],
   "source": [
    "pokemon = \"pokemon.csv\""
   ]
  },
  {
   "cell_type": "code",
   "execution_count": 28,
   "metadata": {},
   "outputs": [
    {
     "data": {
      "text/plain": [
       "True"
      ]
     },
     "execution_count": 28,
     "metadata": {},
     "output_type": "execute_result"
    }
   ],
   "source": [
    "os.path.exists(pokemon)"
   ]
  },
  {
   "cell_type": "code",
   "execution_count": 29,
   "metadata": {},
   "outputs": [],
   "source": [
    "df = pd.read_csv(pokemon)"
   ]
  },
  {
   "cell_type": "code",
   "execution_count": 30,
   "metadata": {},
   "outputs": [
    {
     "data": {
      "text/html": [
       "<div>\n",
       "<style scoped>\n",
       "    .dataframe tbody tr th:only-of-type {\n",
       "        vertical-align: middle;\n",
       "    }\n",
       "\n",
       "    .dataframe tbody tr th {\n",
       "        vertical-align: top;\n",
       "    }\n",
       "\n",
       "    .dataframe thead th {\n",
       "        text-align: right;\n",
       "    }\n",
       "</style>\n",
       "<table border=\"1\" class=\"dataframe\">\n",
       "  <thead>\n",
       "    <tr style=\"text-align: right;\">\n",
       "      <th></th>\n",
       "      <th>#</th>\n",
       "      <th>Name</th>\n",
       "      <th>Type 1</th>\n",
       "      <th>Type 2</th>\n",
       "      <th>Total</th>\n",
       "      <th>HP</th>\n",
       "      <th>Attack</th>\n",
       "      <th>Defense</th>\n",
       "      <th>Sp. Atk</th>\n",
       "      <th>Sp. Def</th>\n",
       "      <th>Speed</th>\n",
       "      <th>Generation</th>\n",
       "      <th>Legendary</th>\n",
       "    </tr>\n",
       "  </thead>\n",
       "  <tbody>\n",
       "    <tr>\n",
       "      <th>0</th>\n",
       "      <td>1</td>\n",
       "      <td>Bulbasaur</td>\n",
       "      <td>Grass</td>\n",
       "      <td>Poison</td>\n",
       "      <td>318</td>\n",
       "      <td>45</td>\n",
       "      <td>49</td>\n",
       "      <td>49</td>\n",
       "      <td>65</td>\n",
       "      <td>65</td>\n",
       "      <td>45</td>\n",
       "      <td>1</td>\n",
       "      <td>False</td>\n",
       "    </tr>\n",
       "    <tr>\n",
       "      <th>1</th>\n",
       "      <td>2</td>\n",
       "      <td>Ivysaur</td>\n",
       "      <td>Grass</td>\n",
       "      <td>Poison</td>\n",
       "      <td>405</td>\n",
       "      <td>60</td>\n",
       "      <td>62</td>\n",
       "      <td>63</td>\n",
       "      <td>80</td>\n",
       "      <td>80</td>\n",
       "      <td>60</td>\n",
       "      <td>1</td>\n",
       "      <td>False</td>\n",
       "    </tr>\n",
       "    <tr>\n",
       "      <th>2</th>\n",
       "      <td>3</td>\n",
       "      <td>Venusaur</td>\n",
       "      <td>Grass</td>\n",
       "      <td>Poison</td>\n",
       "      <td>525</td>\n",
       "      <td>80</td>\n",
       "      <td>82</td>\n",
       "      <td>83</td>\n",
       "      <td>100</td>\n",
       "      <td>100</td>\n",
       "      <td>80</td>\n",
       "      <td>1</td>\n",
       "      <td>False</td>\n",
       "    </tr>\n",
       "    <tr>\n",
       "      <th>3</th>\n",
       "      <td>3</td>\n",
       "      <td>VenusaurMega Venusaur</td>\n",
       "      <td>Grass</td>\n",
       "      <td>Poison</td>\n",
       "      <td>625</td>\n",
       "      <td>80</td>\n",
       "      <td>100</td>\n",
       "      <td>123</td>\n",
       "      <td>122</td>\n",
       "      <td>120</td>\n",
       "      <td>80</td>\n",
       "      <td>1</td>\n",
       "      <td>False</td>\n",
       "    </tr>\n",
       "    <tr>\n",
       "      <th>4</th>\n",
       "      <td>4</td>\n",
       "      <td>Charmander</td>\n",
       "      <td>Fire</td>\n",
       "      <td>NaN</td>\n",
       "      <td>309</td>\n",
       "      <td>39</td>\n",
       "      <td>52</td>\n",
       "      <td>43</td>\n",
       "      <td>60</td>\n",
       "      <td>50</td>\n",
       "      <td>65</td>\n",
       "      <td>1</td>\n",
       "      <td>False</td>\n",
       "    </tr>\n",
       "  </tbody>\n",
       "</table>\n",
       "</div>"
      ],
      "text/plain": [
       "   #                   Name Type 1  Type 2  Total  HP  Attack  Defense  \\\n",
       "0  1              Bulbasaur  Grass  Poison    318  45      49       49   \n",
       "1  2                Ivysaur  Grass  Poison    405  60      62       63   \n",
       "2  3               Venusaur  Grass  Poison    525  80      82       83   \n",
       "3  3  VenusaurMega Venusaur  Grass  Poison    625  80     100      123   \n",
       "4  4             Charmander   Fire     NaN    309  39      52       43   \n",
       "\n",
       "   Sp. Atk  Sp. Def  Speed  Generation  Legendary  \n",
       "0       65       65     45           1      False  \n",
       "1       80       80     60           1      False  \n",
       "2      100      100     80           1      False  \n",
       "3      122      120     80           1      False  \n",
       "4       60       50     65           1      False  "
      ]
     },
     "execution_count": 30,
     "metadata": {},
     "output_type": "execute_result"
    }
   ],
   "source": [
    "df.head()"
   ]
  },
  {
   "cell_type": "code",
   "execution_count": 31,
   "metadata": {},
   "outputs": [
    {
     "data": {
      "text/plain": [
       "<matplotlib.axes._subplots.AxesSubplot at 0x210134db588>"
      ]
     },
     "execution_count": 31,
     "metadata": {},
     "output_type": "execute_result"
    },
    {
     "data": {
      "image/png": "[encoded data removed]",
      "text/plain": [
       "<Figure size 432x288 with 1 Axes>"
      ]
     },
     "metadata": {
      "needs_background": "light"
     },
     "output_type": "display_data"
    }
   ],
   "source": [
    "df.plot.scatter(x = 'Attack', y = 'Defense')"
   ]
  },
  {
   "cell_type": "code",
   "execution_count": 32,
   "metadata": {},
   "outputs": [
    {
     "data": {
      "text/plain": [
       "#                          721\n",
       "Name          Zygarde50% Forme\n",
       "Type 1                   Water\n",
       "Total                      780\n",
       "HP                         255\n",
       "Attack                     190\n",
       "Defense                    230\n",
       "Sp. Atk                    194\n",
       "Sp. Def                    230\n",
       "Speed                      180\n",
       "Generation                   6\n",
       "Legendary                 True\n",
       "dtype: object"
      ]
     },
     "execution_count": 32,
     "metadata": {},
     "output_type": "execute_result"
    }
   ],
   "source": [
    "df.max()"
   ]
  },
  {
   "cell_type": "code",
   "execution_count": 34,
   "metadata": {},
   "outputs": [
    {
     "data": {
      "text/plain": [
       "230"
      ]
     },
     "execution_count": 34,
     "metadata": {},
     "output_type": "execute_result"
    }
   ],
   "source": [
    "df.Defense.max()"
   ]
  },
  {
   "cell_type": "code",
   "execution_count": 37,
   "metadata": {},
   "outputs": [
    {
     "data": {
      "image/png": "[encoded data removed]",
      "text/plain": [
       "<Figure size 432x288 with 1 Axes>"
      ]
     },
     "metadata": {
      "needs_background": "light"
     },
     "output_type": "display_data"
    }
   ],
   "source": [
    "df.Attack.value_counts().head(10).plot(kind = 'bar')\n",
    "plt.savefig('top_10artist.png', bbox_inches = 'tight')"
   ]
  },
  {
   "cell_type": "code",
   "execution_count": 38,
   "metadata": {},
   "outputs": [
    {
     "data": {
      "text/html": [
       "<div>\n",
       "<style scoped>\n",
       "    .dataframe tbody tr th:only-of-type {\n",
       "        vertical-align: middle;\n",
       "    }\n",
       "\n",
       "    .dataframe tbody tr th {\n",
       "        vertical-align: top;\n",
       "    }\n",
       "\n",
       "    .dataframe thead th {\n",
       "        text-align: right;\n",
       "    }\n",
       "</style>\n",
       "<table border=\"1\" class=\"dataframe\">\n",
       "  <thead>\n",
       "    <tr style=\"text-align: right;\">\n",
       "      <th></th>\n",
       "      <th>#</th>\n",
       "      <th>Name</th>\n",
       "      <th>Type 1</th>\n",
       "      <th>Type 2</th>\n",
       "      <th>Total</th>\n",
       "      <th>HP</th>\n",
       "      <th>Attack</th>\n",
       "      <th>Defense</th>\n",
       "      <th>Sp. Atk</th>\n",
       "      <th>Sp. Def</th>\n",
       "      <th>Speed</th>\n",
       "      <th>Generation</th>\n",
       "      <th>Legendary</th>\n",
       "    </tr>\n",
       "  </thead>\n",
       "  <tbody>\n",
       "    <tr>\n",
       "      <th>0</th>\n",
       "      <td>1</td>\n",
       "      <td>Bulbasaur</td>\n",
       "      <td>Grass</td>\n",
       "      <td>Poison</td>\n",
       "      <td>318</td>\n",
       "      <td>45</td>\n",
       "      <td>49</td>\n",
       "      <td>49</td>\n",
       "      <td>65</td>\n",
       "      <td>65</td>\n",
       "      <td>45</td>\n",
       "      <td>1</td>\n",
       "      <td>False</td>\n",
       "    </tr>\n",
       "    <tr>\n",
       "      <th>1</th>\n",
       "      <td>2</td>\n",
       "      <td>Ivysaur</td>\n",
       "      <td>Grass</td>\n",
       "      <td>Poison</td>\n",
       "      <td>405</td>\n",
       "      <td>60</td>\n",
       "      <td>62</td>\n",
       "      <td>63</td>\n",
       "      <td>80</td>\n",
       "      <td>80</td>\n",
       "      <td>60</td>\n",
       "      <td>1</td>\n",
       "      <td>False</td>\n",
       "    </tr>\n",
       "    <tr>\n",
       "      <th>2</th>\n",
       "      <td>3</td>\n",
       "      <td>Venusaur</td>\n",
       "      <td>Grass</td>\n",
       "      <td>Poison</td>\n",
       "      <td>525</td>\n",
       "      <td>80</td>\n",
       "      <td>82</td>\n",
       "      <td>83</td>\n",
       "      <td>100</td>\n",
       "      <td>100</td>\n",
       "      <td>80</td>\n",
       "      <td>1</td>\n",
       "      <td>False</td>\n",
       "    </tr>\n",
       "    <tr>\n",
       "      <th>3</th>\n",
       "      <td>3</td>\n",
       "      <td>VenusaurMega Venusaur</td>\n",
       "      <td>Grass</td>\n",
       "      <td>Poison</td>\n",
       "      <td>625</td>\n",
       "      <td>80</td>\n",
       "      <td>100</td>\n",
       "      <td>123</td>\n",
       "      <td>122</td>\n",
       "      <td>120</td>\n",
       "      <td>80</td>\n",
       "      <td>1</td>\n",
       "      <td>False</td>\n",
       "    </tr>\n",
       "    <tr>\n",
       "      <th>4</th>\n",
       "      <td>4</td>\n",
       "      <td>Charmander</td>\n",
       "      <td>Fire</td>\n",
       "      <td>NaN</td>\n",
       "      <td>309</td>\n",
       "      <td>39</td>\n",
       "      <td>52</td>\n",
       "      <td>43</td>\n",
       "      <td>60</td>\n",
       "      <td>50</td>\n",
       "      <td>65</td>\n",
       "      <td>1</td>\n",
       "      <td>False</td>\n",
       "    </tr>\n",
       "    <tr>\n",
       "      <th>5</th>\n",
       "      <td>5</td>\n",
       "      <td>Charmeleon</td>\n",
       "      <td>Fire</td>\n",
       "      <td>NaN</td>\n",
       "      <td>405</td>\n",
       "      <td>58</td>\n",
       "      <td>64</td>\n",
       "      <td>58</td>\n",
       "      <td>80</td>\n",
       "      <td>65</td>\n",
       "      <td>80</td>\n",
       "      <td>1</td>\n",
       "      <td>False</td>\n",
       "    </tr>\n",
       "    <tr>\n",
       "      <th>6</th>\n",
       "      <td>6</td>\n",
       "      <td>Charizard</td>\n",
       "      <td>Fire</td>\n",
       "      <td>Flying</td>\n",
       "      <td>534</td>\n",
       "      <td>78</td>\n",
       "      <td>84</td>\n",
       "      <td>78</td>\n",
       "      <td>109</td>\n",
       "      <td>85</td>\n",
       "      <td>100</td>\n",
       "      <td>1</td>\n",
       "      <td>False</td>\n",
       "    </tr>\n",
       "    <tr>\n",
       "      <th>7</th>\n",
       "      <td>6</td>\n",
       "      <td>CharizardMega Charizard X</td>\n",
       "      <td>Fire</td>\n",
       "      <td>Dragon</td>\n",
       "      <td>634</td>\n",
       "      <td>78</td>\n",
       "      <td>130</td>\n",
       "      <td>111</td>\n",
       "      <td>130</td>\n",
       "      <td>85</td>\n",
       "      <td>100</td>\n",
       "      <td>1</td>\n",
       "      <td>False</td>\n",
       "    </tr>\n",
       "    <tr>\n",
       "      <th>8</th>\n",
       "      <td>6</td>\n",
       "      <td>CharizardMega Charizard Y</td>\n",
       "      <td>Fire</td>\n",
       "      <td>Flying</td>\n",
       "      <td>634</td>\n",
       "      <td>78</td>\n",
       "      <td>104</td>\n",
       "      <td>78</td>\n",
       "      <td>159</td>\n",
       "      <td>115</td>\n",
       "      <td>100</td>\n",
       "      <td>1</td>\n",
       "      <td>False</td>\n",
       "    </tr>\n",
       "    <tr>\n",
       "      <th>9</th>\n",
       "      <td>7</td>\n",
       "      <td>Squirtle</td>\n",
       "      <td>Water</td>\n",
       "      <td>NaN</td>\n",
       "      <td>314</td>\n",
       "      <td>44</td>\n",
       "      <td>48</td>\n",
       "      <td>65</td>\n",
       "      <td>50</td>\n",
       "      <td>64</td>\n",
       "      <td>43</td>\n",
       "      <td>1</td>\n",
       "      <td>False</td>\n",
       "    </tr>\n",
       "  </tbody>\n",
       "</table>\n",
       "</div>"
      ],
      "text/plain": [
       "   #                       Name Type 1  Type 2  Total  HP  Attack  Defense  \\\n",
       "0  1                  Bulbasaur  Grass  Poison    318  45      49       49   \n",
       "1  2                    Ivysaur  Grass  Poison    405  60      62       63   \n",
       "2  3                   Venusaur  Grass  Poison    525  80      82       83   \n",
       "3  3      VenusaurMega Venusaur  Grass  Poison    625  80     100      123   \n",
       "4  4                 Charmander   Fire     NaN    309  39      52       43   \n",
       "5  5                 Charmeleon   Fire     NaN    405  58      64       58   \n",
       "6  6                  Charizard   Fire  Flying    534  78      84       78   \n",
       "7  6  CharizardMega Charizard X   Fire  Dragon    634  78     130      111   \n",
       "8  6  CharizardMega Charizard Y   Fire  Flying    634  78     104       78   \n",
       "9  7                   Squirtle  Water     NaN    314  44      48       65   \n",
       "\n",
       "   Sp. Atk  Sp. Def  Speed  Generation  Legendary  \n",
       "0       65       65     45           1      False  \n",
       "1       80       80     60           1      False  \n",
       "2      100      100     80           1      False  \n",
       "3      122      120     80           1      False  \n",
       "4       60       50     65           1      False  \n",
       "5       80       65     80           1      False  \n",
       "6      109       85    100           1      False  \n",
       "7      130       85    100           1      False  \n",
       "8      159      115    100           1      False  \n",
       "9       50       64     43           1      False  "
      ]
     },
     "execution_count": 38,
     "metadata": {},
     "output_type": "execute_result"
    }
   ],
   "source": [
    "df.head(10)"
   ]
  },
  {
   "cell_type": "code",
   "execution_count": null,
   "metadata": {},
   "outputs": [],
   "source": []
  }
 ],
 "metadata": {
  "kernelspec": {
   "display_name": "Python 3",
   "language": "python",
   "name": "python3"
  },
  "language_info": {
   "codemirror_mode": {
    "name": "ipython",
    "version": 3
   },
   "file_extension": ".py",
   "mimetype": "text/x-python",
   "name": "python",
   "nbconvert_exporter": "python",
   "pygments_lexer": "ipython3",
   "version": "3.7.0"
  }
 },
 "nbformat": 4,
 "nbformat_minor": 2
}
